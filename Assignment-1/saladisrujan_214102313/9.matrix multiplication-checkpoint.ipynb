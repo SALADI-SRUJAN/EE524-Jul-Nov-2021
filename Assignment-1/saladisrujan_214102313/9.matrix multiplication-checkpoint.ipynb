{
 "cells": [
  {
   "cell_type": "code",
   "execution_count": 15,
   "id": "1841e116",
   "metadata": {},
   "outputs": [
    {
     "name": "stdout",
     "output_type": "stream",
     "text": [
      "[[1 2 3]\n",
      " [4 5 6]]\n",
      "[[ 1  2  3  4]\n",
      " [ 4  5  6  7]\n",
      " [ 8  9 10 11]]\n",
      "[[ 33  39  45  51]\n",
      " [ 72  87 102 117]]\n",
      "TRUE\n"
     ]
    }
   ],
   "source": [
    "def sum(arr): #function for sum of elements in an array\n",
    "    sum=0\n",
    "    for i in arr:\n",
    "        sum=sum+i\n",
    "    return(sum)\n",
    "import numpy as np\n",
    "a=np.array([[1,2,3],[4,5,6]])\n",
    "print(a)\n",
    "b=np.array([[1,2,3,4],[4,5,6,7],[8,9,10,11]])\n",
    "print(b)\n",
    "d=[]\n",
    "if len(a[0])!=len(b): #to check multiplication is possible or not\n",
    "    print('multiplication not possible')\n",
    "else:\n",
    "    for i in range(len(a)):  #loop for row column multiplication\n",
    "        for j in range(len(b[0])):\n",
    "            c=a[i,:]*b[:,j]\n",
    "            k=sum(c)\n",
    "            d.append(k)\n",
    "    e=np.asarray(d) #to convert list into an array\n",
    "    mul=e.reshape(len(a),len(b[0]))\n",
    "    print(mul)\n",
    "    g=np.matmul(a,b)\n",
    "    if f.all()==g.all(): #To check whether multiplication done is true or false  \n",
    "        print('TRUE')\n",
    "    else:\n",
    "        print('FALSE')\n",
    "        \n",
    "\n",
    "        "
   ]
  },
  {
   "cell_type": "code",
   "execution_count": null,
   "id": "37225e93",
   "metadata": {},
   "outputs": [],
   "source": []
  }
 ],
 "metadata": {
  "kernelspec": {
   "display_name": "Python 3",
   "language": "python",
   "name": "python3"
  },
  "language_info": {
   "codemirror_mode": {
    "name": "ipython",
    "version": 3
   },
   "file_extension": ".py",
   "mimetype": "text/x-python",
   "name": "python",
   "nbconvert_exporter": "python",
   "pygments_lexer": "ipython3",
   "version": "3.8.8"
  }
 },
 "nbformat": 4,
 "nbformat_minor": 5
}
