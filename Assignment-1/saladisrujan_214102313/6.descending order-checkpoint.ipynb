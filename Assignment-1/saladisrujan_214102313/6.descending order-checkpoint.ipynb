{
 "cells": [
  {
   "cell_type": "code",
   "execution_count": 8,
   "id": "64557747",
   "metadata": {},
   "outputs": [
    {
     "name": "stdout",
     "output_type": "stream",
     "text": [
      "length of the list is:15\n",
      "95 0\n",
      "84 1\n",
      "59 2\n",
      "54 3\n",
      "46 4\n",
      "35 5\n",
      "26 6\n",
      "25 7\n",
      "23 8\n",
      "16 9\n",
      "14 10\n",
      "6 11\n",
      "3 12\n",
      "2 13\n",
      "1 14\n"
     ]
    }
   ],
   "source": [
    "lst=[25,26,54,84,23,14,16,95,2,3,59,46,35,1,6]\n",
    "n=len(lst)\n",
    "print(f'length of the list is:{n}')\n",
    "for i in range (n-1):\n",
    "    for j in range (0,n-i-1):\n",
    "        if lst[j]<lst[j+1]:\n",
    "            lst[j],lst[j+1]=lst[j+1],lst[j]\n",
    "\n",
    "for i in range(n):\n",
    "    print(lst[i],i)\n"
   ]
  },
  {
   "cell_type": "code",
   "execution_count": null,
   "id": "0f44fc70",
   "metadata": {},
   "outputs": [],
   "source": []
  }
 ],
 "metadata": {
  "kernelspec": {
   "display_name": "Python 3",
   "language": "python",
   "name": "python3"
  },
  "language_info": {
   "codemirror_mode": {
    "name": "ipython",
    "version": 3
   },
   "file_extension": ".py",
   "mimetype": "text/x-python",
   "name": "python",
   "nbconvert_exporter": "python",
   "pygments_lexer": "ipython3",
   "version": "3.8.8"
  }
 },
 "nbformat": 4,
 "nbformat_minor": 5
}
