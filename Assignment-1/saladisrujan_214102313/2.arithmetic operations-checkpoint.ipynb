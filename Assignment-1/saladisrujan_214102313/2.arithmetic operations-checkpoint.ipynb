{
 "cells": [
  {
   "cell_type": "code",
   "execution_count": 5,
   "id": "b1e7c0c9",
   "metadata": {},
   "outputs": [
    {
     "name": "stdout",
     "output_type": "stream",
     "text": [
      "enter the first number:5\n",
      "enter the second number:2\n",
      "the addition of given numbers is:7\n",
      "the subtraction of given numbers is:3\n",
      "the multiplication of given numbers is:10\n",
      "the division of given numbers is:2.5\n",
      "the remainder of the divison is:1\n"
     ]
    }
   ],
   "source": [
    "a=int(input(\"enter the first number:\"))  #Taking user input values\n",
    "b=int(input(\"enter the second number:\"))\n",
    "c=a+b #performing addition\n",
    "print(f'the addition of given numbers is:{c}')\n",
    "d=a-b #performing subtraction\n",
    "print(f'the subtraction of given numbers is:{d}')      \n",
    "e=a*b #performing multiplication\n",
    "print(f'the multiplication of given numbers is:{e}')\n",
    "f=a/b #performing division\n",
    "print(f'the division of given numbers is:{f}')\n",
    "g=a%b #getting remainder of division\n",
    "print(f'the remainder of the divison is:{g}')\n"
   ]
  },
  {
   "cell_type": "code",
   "execution_count": null,
   "id": "ba6a900f",
   "metadata": {},
   "outputs": [],
   "source": []
  },
  {
   "cell_type": "code",
   "execution_count": null,
   "id": "45681389",
   "metadata": {},
   "outputs": [],
   "source": [
    "5\n",
    "2\n"
   ]
  }
 ],
 "metadata": {
  "kernelspec": {
   "display_name": "Python 3",
   "language": "python",
   "name": "python3"
  },
  "language_info": {
   "codemirror_mode": {
    "name": "ipython",
    "version": 3
   },
   "file_extension": ".py",
   "mimetype": "text/x-python",
   "name": "python",
   "nbconvert_exporter": "python",
   "pygments_lexer": "ipython3",
   "version": "3.8.8"
  }
 },
 "nbformat": 4,
 "nbformat_minor": 5
}
