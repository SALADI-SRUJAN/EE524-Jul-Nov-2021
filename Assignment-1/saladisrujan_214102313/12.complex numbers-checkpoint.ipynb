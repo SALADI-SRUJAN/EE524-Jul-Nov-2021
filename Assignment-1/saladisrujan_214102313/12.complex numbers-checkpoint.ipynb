{
 "cells": [
  {
   "cell_type": "markdown",
   "id": "c0818df8",
   "metadata": {},
   "source": [
    "##Arithmetic operations on complex numbers"
   ]
  },
  {
   "cell_type": "code",
   "execution_count": 13,
   "id": "bb2decc0",
   "metadata": {},
   "outputs": [
    {
     "name": "stdout",
     "output_type": "stream",
     "text": [
      "(1-3j)\n",
      "(3-4j)\n",
      "(4+7j)\n",
      "(-2-1j)\n",
      "(-9+13j)\n",
      "(0.6+0.2j)\n",
      "3.1622776601683795\n",
      "5.0\n",
      "The phase angle in degrees =71.57032275841998\n",
      "The phase angle in degrees =53.134015991492376\n"
     ]
    }
   ],
   "source": [
    "import numpy as np\n",
    "class comp:         #defining complex numbers class with different arithmetic operations\n",
    "    def conjugate(c):\n",
    "        print(np.conj(c))\n",
    "    def absolute(c):\n",
    "        print(abs(c))\n",
    "    def add(c1,c2):\n",
    "        print(c1+c2)\n",
    "    def sub(c1,c2):\n",
    "        print(c1-c2)\n",
    "    def mul(c1,c2):\n",
    "        print(c1*c2)\n",
    "    def div(c1,c2):\n",
    "        print(c1/c2)\n",
    "    def angle(c):\n",
    "        deg=np.angle(c)*57.3\n",
    "        print(f'The phase angle in degrees ={deg}') \n",
    "           \n",
    "c1=1+3j    #defining two complex numbers\n",
    "c2=3+4j\n",
    "comp.conjugate(c1)\n",
    "comp.conjugate(c2)\n",
    "comp.add(c1,c2)\n",
    "comp.sub(c1,c2)\n",
    "comp.mul(c1,c2)\n",
    "comp.div(c1,c2)\n",
    "comp.absolute(c1)\n",
    "comp.absolute(c2)\n",
    "comp.angle(c1)\n",
    "comp.angle(c2)\n"
   ]
  }
 ],
 "metadata": {
  "kernelspec": {
   "display_name": "Python 3",
   "language": "python",
   "name": "python3"
  },
  "language_info": {
   "codemirror_mode": {
    "name": "ipython",
    "version": 3
   },
   "file_extension": ".py",
   "mimetype": "text/x-python",
   "name": "python",
   "nbconvert_exporter": "python",
   "pygments_lexer": "ipython3",
   "version": "3.8.8"
  }
 },
 "nbformat": 4,
 "nbformat_minor": 5
}
