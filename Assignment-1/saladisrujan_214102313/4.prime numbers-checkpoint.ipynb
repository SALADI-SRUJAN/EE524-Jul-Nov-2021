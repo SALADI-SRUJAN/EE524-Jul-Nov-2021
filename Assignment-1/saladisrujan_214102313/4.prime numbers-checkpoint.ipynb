{
 "cells": [
  {
   "cell_type": "code",
   "execution_count": 16,
   "id": "2dbee92d",
   "metadata": {},
   "outputs": [
    {
     "name": "stdout",
     "output_type": "stream",
     "text": [
      "enter the first number:10\n",
      "enter the second number20\n",
      "[11, 13, 15, 17, 19]\n"
     ]
    }
   ],
   "source": [
    "a=int(input('enter the first number:'))  #taking user input\n",
    "b=int(input('enter the second number'))\n",
    "prime=[]\n",
    "for i in range(a,b+1):\n",
    "    for j in range(2,i):\n",
    "        if i%j==0:   #condition to check for prime number\n",
    "            break\n",
    "    else:\n",
    "        prime.append(i) #adding prime numbers to the list of prime\n",
    "        \n",
    "print(prime)"
   ]
  },
  {
   "cell_type": "code",
   "execution_count": null,
   "id": "d9b89818",
   "metadata": {},
   "outputs": [],
   "source": []
  },
  {
   "cell_type": "code",
   "execution_count": null,
   "id": "c8dadff8",
   "metadata": {},
   "outputs": [],
   "source": []
  }
 ],
 "metadata": {
  "kernelspec": {
   "display_name": "Python 3",
   "language": "python",
   "name": "python3"
  },
  "language_info": {
   "codemirror_mode": {
    "name": "ipython",
    "version": 3
   },
   "file_extension": ".py",
   "mimetype": "text/x-python",
   "name": "python",
   "nbconvert_exporter": "python",
   "pygments_lexer": "ipython3",
   "version": "3.8.8"
  }
 },
 "nbformat": 4,
 "nbformat_minor": 5
}
