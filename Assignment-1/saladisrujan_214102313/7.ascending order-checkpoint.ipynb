{
 "cells": [
  {
   "cell_type": "code",
   "execution_count": 4,
   "id": "05bfdbcc",
   "metadata": {},
   "outputs": [
    {
     "name": "stdout",
     "output_type": "stream",
     "text": [
      "length of the list is:15\n",
      "1 0\n",
      "2 1\n",
      "3 2\n",
      "6 3\n",
      "14 4\n",
      "16 5\n",
      "23 6\n",
      "25 7\n",
      "26 8\n",
      "35 9\n",
      "46 10\n",
      "54 11\n",
      "59 12\n",
      "84 13\n",
      "95 14\n"
     ]
    }
   ],
   "source": [
    "import numpy as np  #importing the numpy module\n",
    "arr=np.array([25,26,54,84,23,14,16,95,2,3,59,46,35,1,6]) #creating a numpy array \n",
    "n=len(arr)\n",
    "print(f'length of the array is:{n}')\n",
    "for i in range (n-1):\n",
    "    for j in range (0,n-i-1):\n",
    "        if arr[j]>arr[j+1]:\n",
    "            arr[j],arr[j+1]=arr[j+1],arr[j] #sorting the elements in increasing order\n",
    "\n",
    "for i in range(n):   #printing the elements along with indices\n",
    "    print(arr[i],i)\n"
   ]
  },
  {
   "cell_type": "code",
   "execution_count": null,
   "id": "77e092c7",
   "metadata": {},
   "outputs": [],
   "source": []
  },
  {
   "cell_type": "code",
   "execution_count": null,
   "id": "2ff1a128",
   "metadata": {},
   "outputs": [],
   "source": []
  }
 ],
 "metadata": {
  "kernelspec": {
   "display_name": "Python 3",
   "language": "python",
   "name": "python3"
  },
  "language_info": {
   "codemirror_mode": {
    "name": "ipython",
    "version": 3
   },
   "file_extension": ".py",
   "mimetype": "text/x-python",
   "name": "python",
   "nbconvert_exporter": "python",
   "pygments_lexer": "ipython3",
   "version": "3.8.8"
  }
 },
 "nbformat": 4,
 "nbformat_minor": 5
}
