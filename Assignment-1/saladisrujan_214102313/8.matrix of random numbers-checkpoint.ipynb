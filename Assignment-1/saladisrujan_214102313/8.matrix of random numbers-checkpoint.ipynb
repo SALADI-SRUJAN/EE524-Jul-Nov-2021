{
 "cells": [
  {
   "cell_type": "code",
   "execution_count": 5,
   "id": "ff355e81",
   "metadata": {},
   "outputs": [
    {
     "name": "stdout",
     "output_type": "stream",
     "text": [
      "enter the number of rows:2\n",
      "emter the number of columns:6\n",
      "[[ 3  4 -2  0  0  4]\n",
      " [ 3  3  1  2  5  3]]\n"
     ]
    }
   ],
   "source": [
    "import numpy as np\n",
    "m=int(input('enter the number of rows:'))  #taking number of rows from user \n",
    "n=int(input('emter the number of columns:')) #taking number of columns from user\n",
    "print(np.random.randint(low=-2,high=6,size=(m,n))) #generating matrix with random elements\n",
    "\n"
   ]
  },
  {
   "cell_type": "code",
   "execution_count": null,
   "id": "94cfb90d",
   "metadata": {},
   "outputs": [],
   "source": []
  }
 ],
 "metadata": {
  "kernelspec": {
   "display_name": "Python 3",
   "language": "python",
   "name": "python3"
  },
  "language_info": {
   "codemirror_mode": {
    "name": "ipython",
    "version": 3
   },
   "file_extension": ".py",
   "mimetype": "text/x-python",
   "name": "python",
   "nbconvert_exporter": "python",
   "pygments_lexer": "ipython3",
   "version": "3.8.8"
  }
 },
 "nbformat": 4,
 "nbformat_minor": 5
}
