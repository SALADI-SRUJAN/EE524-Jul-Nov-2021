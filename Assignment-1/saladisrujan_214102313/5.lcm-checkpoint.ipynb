{
 "cells": [
  {
   "cell_type": "markdown",
   "id": "83a860b4",
   "metadata": {},
   "source": [
    "###LCM"
   ]
  },
  {
   "cell_type": "code",
   "execution_count": 14,
   "id": "ce01860c",
   "metadata": {
    "scrolled": false
   },
   "outputs": [
    {
     "name": "stdout",
     "output_type": "stream",
     "text": [
      "enter the first number:5\n",
      "enter the second number:2\n",
      "The lcm of the given two numbers is:10.0 \n"
     ]
    }
   ],
   "source": [
    "def gcd(a,b): #function to return the value of gcd\n",
    "    m=min(a,b)\n",
    "    g=[]\n",
    "    for i in range(1,m+1):\n",
    "        if a%i==0 and b%i==0:\n",
    "            g.append(i)\n",
    "    return(g[-1])\n",
    "\n",
    "a=int(input('enter the first number:'))\n",
    "b=int(input('enter the second number:'))\n",
    "lcm=(a*b)/gcd(a,b)  #formula to get lcm\n",
    "print(f\"The lcm of the given two numbers is:{lcm} \")\n",
    "\n",
    "\n",
    "            "
   ]
  },
  {
   "cell_type": "code",
   "execution_count": null,
   "id": "aff08bc2",
   "metadata": {},
   "outputs": [],
   "source": []
  },
  {
   "cell_type": "code",
   "execution_count": null,
   "id": "028bcc73",
   "metadata": {},
   "outputs": [],
   "source": []
  },
  {
   "cell_type": "code",
   "execution_count": null,
   "id": "edde48f2",
   "metadata": {},
   "outputs": [],
   "source": []
  },
  {
   "cell_type": "code",
   "execution_count": null,
   "id": "a53509c2",
   "metadata": {},
   "outputs": [],
   "source": []
  }
 ],
 "metadata": {
  "kernelspec": {
   "display_name": "Python 3",
   "language": "python",
   "name": "python3"
  },
  "language_info": {
   "codemirror_mode": {
    "name": "ipython",
    "version": 3
   },
   "file_extension": ".py",
   "mimetype": "text/x-python",
   "name": "python",
   "nbconvert_exporter": "python",
   "pygments_lexer": "ipython3",
   "version": "3.8.8"
  }
 },
 "nbformat": 4,
 "nbformat_minor": 5
}
