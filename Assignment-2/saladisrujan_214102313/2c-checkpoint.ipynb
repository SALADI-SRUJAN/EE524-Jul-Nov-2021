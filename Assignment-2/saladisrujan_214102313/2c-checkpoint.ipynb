{
 "cells": [
  {
   "cell_type": "code",
   "execution_count": 1,
   "id": "6cf90eaf",
   "metadata": {},
   "outputs": [],
   "source": [
    "#The gradient and stationary points of 1st matrix are :x1,x2 and (0,0)"
   ]
  },
  {
   "cell_type": "code",
   "execution_count": 2,
   "id": "89d76c95",
   "metadata": {},
   "outputs": [],
   "source": [
    "#The gradient and stationary points of 2nd matrix are :2*x1,2*x2 and (0,0)"
   ]
  },
  {
   "cell_type": "code",
   "execution_count": 3,
   "id": "ca32a832",
   "metadata": {},
   "outputs": [],
   "source": [
    "#The gradient and stationary points of 3rd matrix are :8*x1,8*x2 and (0,0)"
   ]
  },
  {
   "cell_type": "code",
   "execution_count": 4,
   "id": "bd81e28c",
   "metadata": {},
   "outputs": [],
   "source": [
    "#The gradient and stationary points of 4th matrix are :18*x1,2*x2 and (0,0)"
   ]
  },
  {
   "cell_type": "code",
   "execution_count": 5,
   "id": "b22462a3",
   "metadata": {},
   "outputs": [],
   "source": [
    "#The gradient and stationary points of 5th matrix are :2*x1,18*x2 and (0,0)"
   ]
  },
  {
   "cell_type": "code",
   "execution_count": 6,
   "id": "b5acad4c",
   "metadata": {},
   "outputs": [],
   "source": [
    "#The gradient and stationary points of 6th matrix are :18*x1+10*x2,10*x1+16*x2 and 4*x1=3*x2"
   ]
  },
  {
   "cell_type": "code",
   "execution_count": 7,
   "id": "d4074bd7",
   "metadata": {},
   "outputs": [],
   "source": [
    "#The gradient and stationary points of 7th matrix are :2*x1-2*x2,-2*x1+2*x2 and x1=x2"
   ]
  },
  {
   "cell_type": "code",
   "execution_count": 8,
   "id": "90d50fc5",
   "metadata": {},
   "outputs": [],
   "source": [
    "#The gradient and stationary points of 8th matrix are :2*x1-x2,2*x2-x1 and x1=x2"
   ]
  },
  {
   "cell_type": "code",
   "execution_count": 9,
   "id": "5a9a1bf2",
   "metadata": {},
   "outputs": [],
   "source": [
    "#The gradient and stationary points of 9th matrix are :2*x1+2*x2,2*x1+2*x2 and undefined"
   ]
  },
  {
   "cell_type": "code",
   "execution_count": null,
   "id": "5e14d508",
   "metadata": {},
   "outputs": [],
   "source": [
    "#The gradient and stationary points of 10th matrix are :2*x1+x2,2*x2+x1 and x1=x2"
   ]
  }
 ],
 "metadata": {
  "kernelspec": {
   "display_name": "Python 3",
   "language": "python",
   "name": "python3"
  },
  "language_info": {
   "codemirror_mode": {
    "name": "ipython",
    "version": 3
   },
   "file_extension": ".py",
   "mimetype": "text/x-python",
   "name": "python",
   "nbconvert_exporter": "python",
   "pygments_lexer": "ipython3",
   "version": "3.8.8"
  }
 },
 "nbformat": 4,
 "nbformat_minor": 5
}
