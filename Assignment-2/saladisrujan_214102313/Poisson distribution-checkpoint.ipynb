{
 "cells": [
  {
   "cell_type": "code",
   "execution_count": 1,
   "id": "f472bf58",
   "metadata": {},
   "outputs": [],
   "source": [
    "#importing required libraries\n",
    "import numpy as np\n",
    "import matplotlib.pyplot as plt"
   ]
  },
  {
   "cell_type": "code",
   "execution_count": 13,
   "id": "0a856f81",
   "metadata": {},
   "outputs": [
    {
     "name": "stdout",
     "output_type": "stream",
     "text": [
      "The mean and variance of a possion distribution are same and equals to 5 \n"
     ]
    },
    {
     "data": {
      "image/png": "[encoded data removed]",
      "text/plain": [
       "<Figure size 432x288 with 1 Axes>"
      ]
     },
     "metadata": {
      "needs_background": "light"
     },
     "output_type": "display_data"
    }
   ],
   "source": [
    "def fact(n):\n",
    " \n",
    "    res = 1\n",
    "     \n",
    "    for i in range(2, n+1):\n",
    "        res = res * i\n",
    "         \n",
    "    return res\n",
    "a=5 #mean number of bits received\n",
    "x=[]\n",
    "y=[]\n",
    "for i in range(1,16):\n",
    "    x.append(i)\n",
    "    i-=1\n",
    "for i in x:\n",
    "    p=((a**i)*(2.71828)**(-a))/fact(i) #pmf of a poisson's distribution\n",
    "    y.append(p)\n",
    "    \n",
    "plt.bar(x,y,width=0.5)\n",
    "plt.xlabel(\"x\")\n",
    "plt.ylabel(\"pmf of x\")\n",
    "plt.title(\"Poisson distribution\")\n",
    "mean=variance=5\n",
    "print(f\"The mean and variance of a possion distribution are same and equals to {mean} \")\n",
    "\n",
    "##Poisson distribution is the limitimg case of binomial distribution,when number of trails become large and probability becomes \n",
    "#small the poisson provides a very good approximation to binomial distribution."
   ]
  },
  {
   "cell_type": "code",
   "execution_count": null,
   "id": "c915feda",
   "metadata": {},
   "outputs": [],
   "source": []
  }
 ],
 "metadata": {
  "kernelspec": {
   "display_name": "Python 3",
   "language": "python",
   "name": "python3"
  },
  "language_info": {
   "codemirror_mode": {
    "name": "ipython",
    "version": 3
   },
   "file_extension": ".py",
   "mimetype": "text/x-python",
   "name": "python",
   "nbconvert_exporter": "python",
   "pygments_lexer": "ipython3",
   "version": "3.8.8"
  }
 },
 "nbformat": 4,
 "nbformat_minor": 5
}
