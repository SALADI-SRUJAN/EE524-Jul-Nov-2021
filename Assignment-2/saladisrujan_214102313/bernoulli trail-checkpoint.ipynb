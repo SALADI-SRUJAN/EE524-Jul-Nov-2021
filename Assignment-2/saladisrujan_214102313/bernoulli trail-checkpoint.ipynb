{
 "cells": [
  {
   "cell_type": "code",
   "execution_count": 1,
   "id": "4fea381d",
   "metadata": {},
   "outputs": [],
   "source": [
    "import numpy as np\n",
    "import matplotlib.pyplot as plt"
   ]
  },
  {
   "cell_type": "code",
   "execution_count": 6,
   "id": "8428cf87",
   "metadata": {},
   "outputs": [
    {
     "data": {
      "image/png": "[encoded data removed]",
      "text/plain": [
       "<Figure size 432x288 with 1 Axes>"
      ]
     },
     "metadata": {
      "needs_background": "light"
     },
     "output_type": "display_data"
    },
    {
     "data": {
      "image/png": "[encoded data removed]",
      "text/plain": [
       "<Figure size 432x288 with 2 Axes>"
      ]
     },
     "metadata": {
      "needs_background": "light"
     },
     "output_type": "display_data"
    }
   ],
   "source": [
    "#given expriment follows the bernoulli distribution\n",
    "x=[0,1]\n",
    "p=[0.1,0.5,0.8]\n",
    "u=[]\n",
    "v=[]\n",
    "w=[]\n",
    "for i in p:\n",
    "    if i==p[0]:\n",
    "        u.append(i)\n",
    "        u.append(1-i)\n",
    "    if i==p[1]:\n",
    "        v.append(i)\n",
    "        v.append(1-i)\n",
    "    if i==p[2]:\n",
    "        w.append(i)\n",
    "        w.append(1-i)\n",
    "fig1, ax1 = plt.subplots()\n",
    "ax1.bar(x, u,width=0.1)\n",
    "fig2, (ax2, ax3) = plt.subplots(nrows=2, ncols=1) # two axes on figure\n",
    "ax2.bar(x,v,width=0.1)\n",
    "ax3.bar(x,w,width=0.1)\n",
    "plt.show()\n"
   ]
  },
  {
   "cell_type": "code",
   "execution_count": null,
   "id": "24725386",
   "metadata": {},
   "outputs": [],
   "source": []
  }
 ],
 "metadata": {
  "kernelspec": {
   "display_name": "Python 3",
   "language": "python",
   "name": "python3"
  },
  "language_info": {
   "codemirror_mode": {
    "name": "ipython",
    "version": 3
   },
   "file_extension": ".py",
   "mimetype": "text/x-python",
   "name": "python",
   "nbconvert_exporter": "python",
   "pygments_lexer": "ipython3",
   "version": "3.8.8"
  }
 },
 "nbformat": 4,
 "nbformat_minor": 5
}
