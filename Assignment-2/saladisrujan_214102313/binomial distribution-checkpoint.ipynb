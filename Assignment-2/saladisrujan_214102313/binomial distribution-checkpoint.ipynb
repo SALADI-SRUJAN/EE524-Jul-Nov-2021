{
 "cells": [
  {
   "cell_type": "code",
   "execution_count": 1,
   "id": "5dcf5c88",
   "metadata": {},
   "outputs": [],
   "source": [
    "import numpy as np"
   ]
  },
  {
   "cell_type": "code",
   "execution_count": 2,
   "id": "cbbd1eaf",
   "metadata": {},
   "outputs": [],
   "source": [
    "import matplotlib.pyplot as plt"
   ]
  },
  {
   "cell_type": "code",
   "execution_count": 21,
   "id": "f1fedd18",
   "metadata": {},
   "outputs": [
    {
     "name": "stdout",
     "output_type": "stream",
     "text": [
      "the mean of the given distribution is: 12.0\n",
      "the variance of the given distribution is:4.800000000000001 \n"
     ]
    },
    {
     "data": {
      "image/png": "[encoded data removed]",
      "text/plain": [
       "<Figure size 432x288 with 1 Axes>"
      ]
     },
     "metadata": {
      "needs_background": "light"
     },
     "output_type": "display_data"
    }
   ],
   "source": [
    "#Given experiment follows the binomial distribution\n",
    "\n",
    "def nCr(n, r):  #defining function to calculate ncr\n",
    " \n",
    "    return (fact(n) / (fact(r)* fact(n - r)))\n",
    "\n",
    "def fact(n):  #defining function to calculate factorial of a number\n",
    " \n",
    "    res = 1\n",
    "     \n",
    "    for i in range(2, n+1):\n",
    "        res = res * i\n",
    "         \n",
    "    return res\n",
    "n=20\n",
    "p=0.4 #prob of 0\n",
    "q=0.6 #prob of 1\n",
    "x=[]  #x is the random variable of successes i.e 1\n",
    "for i in range(n+1):\n",
    "    x.append(i)\n",
    "    n-=1\n",
    "y=[]\n",
    "for j in x:\n",
    "    a=nCr(20,j)*q**j*p**(20-j) #pmf of a binomial distribution\n",
    "    y.append(a)\n",
    "    \n",
    "plt.bar(x,y)\n",
    "plt.xlabel('x')\n",
    "plt.ylabel('pmf of x')\n",
    "plt.title('binomial distribution')\n",
    "n=20\n",
    "mean=n*q\n",
    "var=n*q*p\n",
    "print(f\"the mean of the given distribution is: {mean}\")\n",
    "print(f\"the variance of the given distribution is:{var} \")\n",
    "    \n",
    "##Binomial distribution is a series of bernoullis trails."
   ]
  },
  {
   "cell_type": "code",
   "execution_count": null,
   "id": "c993ad7c",
   "metadata": {},
   "outputs": [],
   "source": []
  }
 ],
 "metadata": {
  "kernelspec": {
   "display_name": "Python 3",
   "language": "python",
   "name": "python3"
  },
  "language_info": {
   "codemirror_mode": {
    "name": "ipython",
    "version": 3
   },
   "file_extension": ".py",
   "mimetype": "text/x-python",
   "name": "python",
   "nbconvert_exporter": "python",
   "pygments_lexer": "ipython3",
   "version": "3.8.8"
  }
 },
 "nbformat": 4,
 "nbformat_minor": 5
}
