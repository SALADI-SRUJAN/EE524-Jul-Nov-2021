{
 "cells": [
  {
   "cell_type": "code",
   "execution_count": 1,
   "id": "f48a8d04",
   "metadata": {},
   "outputs": [],
   "source": [
    "# importing required libraries \n",
    "import numpy as np\n",
    "import matplotlib.pyplot as plt"
   ]
  },
  {
   "cell_type": "code",
   "execution_count": 12,
   "id": "5ea4ff0c",
   "metadata": {},
   "outputs": [
    {
     "name": "stdout",
     "output_type": "stream",
     "text": [
      "The mean and variance of the given distribution are 2.0 and 2.0 respectively \n"
     ]
    },
    {
     "data": {
      "image/png": "[encoded data removed]",
      "text/plain": [
       "<Figure size 432x288 with 1 Axes>"
      ]
     },
     "metadata": {
      "needs_background": "light"
     },
     "output_type": "display_data"
    }
   ],
   "source": [
    "p=0.5 #prob of o\n",
    "q=0.5 #prob of 1\n",
    "x=[]\n",
    "for i in range(1,11):\n",
    "    x.append(i)\n",
    "    i-=1\n",
    "y=[]\n",
    "for j in x:\n",
    "    a=p*q**(j-1)\n",
    "    y.append(a)\n",
    "plt.bar(x,y,width=0.1)\n",
    "plt.xlabel('X')\n",
    "plt.ylabel('pmf of X')\n",
    "plt.title('Geometric Distribution')\n",
    "mean=1/p\n",
    "var=(1-p)/p**2\n",
    "print(f\"The mean and variance of the given distribution are {mean} and {var} respectively \")\n",
    "\n",
    "## Bernoulli represents the success or failure in a single trail,whereas geometric distribution has a fixed number of successes and counts the number of trails.\n",
    "\n",
    "\n",
    "    "
   ]
  },
  {
   "cell_type": "code",
   "execution_count": null,
   "id": "7e6a182b",
   "metadata": {},
   "outputs": [],
   "source": []
  },
  {
   "cell_type": "code",
   "execution_count": null,
   "id": "8b4115a2",
   "metadata": {},
   "outputs": [],
   "source": []
  }
 ],
 "metadata": {
  "kernelspec": {
   "display_name": "Python 3",
   "language": "python",
   "name": "python3"
  },
  "language_info": {
   "codemirror_mode": {
    "name": "ipython",
    "version": 3
   },
   "file_extension": ".py",
   "mimetype": "text/x-python",
   "name": "python",
   "nbconvert_exporter": "python",
   "pygments_lexer": "ipython3",
   "version": "3.8.8"
  }
 },
 "nbformat": 4,
 "nbformat_minor": 5
}
